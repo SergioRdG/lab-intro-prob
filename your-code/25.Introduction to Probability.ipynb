{
 "cells": [
  {
   "cell_type": "markdown",
   "metadata": {},
   "source": [
    "# Introduction To Probability\n",
    "## Challenge 1\n",
    "\n",
    "A and B are events of a probability space with $(\\omega, \\sigma, P)$ such that $P(A) = 0.3$, $P(B) = 0.6$ and $P(A \\cap B) = 0.1$\n",
    "\n",
    "Which of the following statements are false?\n",
    "* $P(A \\cup B) = 0.6$\n",
    "* $P(A \\cap B^{C}) = 0.2$\n",
    "* $P(A \\cap (B \\cup B^{C})) = 0.4$\n",
    "* $P(A^{C} \\cap B^{C}) = 0.3$\n",
    "* $P((A \\cap B)^{C}) = 0.9$"
   ]
  },
  {
   "cell_type": "code",
   "execution_count": null,
   "metadata": {},
   "outputs": [],
   "source": [
    "\"\"\"\n",
    "𝑃(𝐴∪𝐵)=0.6 FALSE because P(A OR B) = P(A)+P(B)-𝑃(𝐴∩𝐵) = 0.3+0.6-0.1 = 0.8\n",
    "𝑃(𝐴∩𝐵^𝐶)=0.2 TRUE because  P(A) - 𝑃(𝐴∩𝐵) = 0.3-0.1 =0.2\n",
    "𝑃(𝐴∩(𝐵∪𝐵^C))=0.4 FALSE because P(A∩(1))= 0.3*1 = 0.3 not 0.4\n",
    "𝑃(𝐴^𝐶∩𝐵^𝐶)=0.3 FALSE because it is the same as 1 - p(𝐴∪𝐵)= 1-0.8= 0.2 not 0.3\n",
    "𝑃((𝐴∩𝐵)^𝐶)=0.9 TRUE because 1 - p(A∩B)= 1-0.1 =0.9\n",
    "\"\"\""
   ]
  },
  {
   "cell_type": "markdown",
   "metadata": {},
   "source": [
    "## Challenge 2\n",
    "There is a box with 10 white balls, 12 red balls and 8 black balls. Calculate the probability of:\n",
    "* Taking a white ball out.\n",
    "* Taking a white ball out after taking a black ball out.\n",
    "* Taking a red ball out after taking a black and a red ball out.\n",
    "* Taking a red ball out after taking a black and a red ball out with reposition.\n",
    "\n",
    "**Hint**: Reposition means putting back the ball into the box after taking it out."
   ]
  },
  {
   "cell_type": "code",
   "execution_count": null,
   "metadata": {},
   "outputs": [],
   "source": [
    "\"\"\"\n",
    "P (White ball out) = 10/30 = ~33.33%\n",
    "P (White ball out after taking a black ball out) = (8/30)*(10/29)= ~9.2%\n",
    "P (Red ball out after taking a black and a red ball out) = ((12/30)(8/29)+(8/30)(11/28))*(11/28)= ~8.7%\n",
    "P (Red ball out after taking a black and a red ball out with reposition) = ((12/30)(8/30)+(8/30)(12/30))*(12/30)= ~8.5%\n",
    "\"\"\""
   ]
  },
  {
   "cell_type": "markdown",
   "metadata": {},
   "source": [
    "## Challenge 3\n",
    "\n",
    "You are planning to go on a picnic today but the morning is cloudy. You hate rain so you don't know whether to go out or stay home! To help you make a decision, you gather the following data about rainy days:\n",
    "\n",
    "* Knowing that it is a rainy day, the probability of cloudy is 50%!\n",
    "* The probability of any day (rainy or not) starting off cloudy is 40%. \n",
    "* This month is usually dry so only 3 of 30 days (10%) tend to be rainy. \n",
    "\n",
    "What is the probability of rain, given the day started cloudy?"
   ]
  },
  {
   "cell_type": "code",
   "execution_count": null,
   "metadata": {},
   "outputs": [],
   "source": [
    "\"\"\"\n",
    "P(cloudy|rainy) = 0.5\n",
    "P(cloudy) = 0.4\n",
    "P(rainy) = 0.1\n",
    "\n",
    "P(rainy|cloudy) = ? \n",
    "\n",
    "P(rainy AND cloudy) = p(rainy) * p(cloudy) = 0.5 * 0.1 = 0.05\n",
    "\n",
    "P(rainy|cloudy) = p(rainy AND cloudy)/p(cloudy) = 0.05/0.4 = 0.125\n",
    "\n",
    "The probability of rain, considering that the day started cloudy is 12.5%\n",
    "\"\"\""
   ]
  },
  {
   "cell_type": "markdown",
   "metadata": {},
   "source": [
    "## Challenge 4\n",
    "\n",
    "One thousand people were asked through a telephone survey whether they thought more street lighting is needed at night or not.\n",
    "\n",
    "Out of the 480 men that answered the survey, 324 said yes and 156 said no. On the other hand, out of the 520 women that answered, 351 said yes and 169 said no. \n",
    "\n",
    "We wonder if men and women have a different opinions about the street lighting matter. Is gender relevant or irrelevant to the question?\n",
    "\n",
    "Consider the following events:\n",
    "- The answer is yes, so the person that answered thinks that more street lighting is needed.\n",
    "- The person who answered is a man.\n",
    "\n",
    "We want to know if these events are independent, that is, if the fact of wanting more light depends on whether one is male or female. Are these events independent or not?\n",
    "\n",
    "**Hint**: To clearly compare the answers by gender, it is best to place the data in a table."
   ]
  },
  {
   "cell_type": "code",
   "execution_count": 2,
   "metadata": {},
   "outputs": [
    {
     "data": {
      "text/html": [
       "<div>\n",
       "<style scoped>\n",
       "    .dataframe tbody tr th:only-of-type {\n",
       "        vertical-align: middle;\n",
       "    }\n",
       "\n",
       "    .dataframe tbody tr th {\n",
       "        vertical-align: top;\n",
       "    }\n",
       "\n",
       "    .dataframe thead th {\n",
       "        text-align: right;\n",
       "    }\n",
       "</style>\n",
       "<table border=\"1\" class=\"dataframe\">\n",
       "  <thead>\n",
       "    <tr style=\"text-align: right;\">\n",
       "      <th></th>\n",
       "      <th>men</th>\n",
       "      <th>women</th>\n",
       "    </tr>\n",
       "  </thead>\n",
       "  <tbody>\n",
       "    <tr>\n",
       "      <th>yes</th>\n",
       "      <td>324</td>\n",
       "      <td>351</td>\n",
       "    </tr>\n",
       "    <tr>\n",
       "      <th>no</th>\n",
       "      <td>136</td>\n",
       "      <td>169</td>\n",
       "    </tr>\n",
       "    <tr>\n",
       "      <th>total</th>\n",
       "      <td>480</td>\n",
       "      <td>520</td>\n",
       "    </tr>\n",
       "  </tbody>\n",
       "</table>\n",
       "</div>"
      ],
      "text/plain": [
       "       men  women\n",
       "yes    324    351\n",
       "no     136    169\n",
       "total  480    520"
      ]
     },
     "execution_count": 2,
     "metadata": {},
     "output_type": "execute_result"
    }
   ],
   "source": [
    "# your code here\n",
    "import pandas as pd\n",
    "survey = pd.DataFrame({'men':{'yes':324,'no':136, 'total':480},'women':{'yes':351,'no':169, 'total':520}})\n",
    "survey"
   ]
  },
  {
   "cell_type": "code",
   "execution_count": null,
   "metadata": {},
   "outputs": [],
   "source": [
    "\"\"\"\n",
    "P(man AND yes) = P(man) · P(yes) \n",
    "\n",
    "Should the above equation be true, two events are independent\n",
    "\n",
    "P(yes) = 675/1000 = 67.5%\n",
    "P(man) = 480/1000 = 48%\n",
    "P(man AND yes) = 324/1000 = 32.4%\n",
    "\n",
    "In order to verify the equation above:\n",
    "\n",
    "32.4% = (67.5% · 48%)\n",
    "32.4% = 32.4%\n",
    "\n",
    "The equation has proven to be true, therefore the two events are independent.\n",
    "\"\"\""
   ]
  }
 ],
 "metadata": {
  "kernelspec": {
   "display_name": "Python 3",
   "language": "python",
   "name": "python3"
  },
  "language_info": {
   "codemirror_mode": {
    "name": "ipython",
    "version": 3
   },
   "file_extension": ".py",
   "mimetype": "text/x-python",
   "name": "python",
   "nbconvert_exporter": "python",
   "pygments_lexer": "ipython3",
   "version": "3.8.5"
  }
 },
 "nbformat": 4,
 "nbformat_minor": 4
}
